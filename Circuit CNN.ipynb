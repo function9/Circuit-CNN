{
 "cells": [
  {
   "cell_type": "code",
   "execution_count": 1,
   "metadata": {},
   "outputs": [
    {
     "name": "stderr",
     "output_type": "stream",
     "text": [
      "Using TensorFlow backend.\n"
     ]
    }
   ],
   "source": [
    "import keras\n",
    "from keras.models import Sequential\n",
    "from keras.layers import Dense, Dropout, Flatten\n",
    "from keras.layers import Conv2D, MaxPooling2D\n",
    "from keras import backend as K\n",
    "import os\n",
    "from PIL import Image\n",
    "import numpy as np\n",
    "from sklearn.model_selection import train_test_split\n",
    "from sklearn.preprocessing import OneHotEncoder\n",
    "import matplotlib.pyplot as plt\n",
    "from matplotlib.pyplot import imshow"
   ]
  },
  {
   "cell_type": "code",
   "execution_count": 2,
   "metadata": {},
   "outputs": [
    {
     "name": "stderr",
     "output_type": "stream",
     "text": [
      "C:\\Users\\Vee\\Anaconda3\\lib\\site-packages\\sklearn\\preprocessing\\_encoders.py:415: FutureWarning: The handling of integer data will change in version 0.22. Currently, the categories are determined based on the range [0, max(values)], while in the future they will be determined based on the unique values.\n",
      "If you want the future behaviour and silence this warning, you can specify \"categories='auto'\".\n",
      "In case you used a LabelEncoder before this OneHotEncoder to convert the categories to integers, then you can now use the OneHotEncoder directly.\n",
      "  warnings.warn(msg, FutureWarning)\n"
     ]
    }
   ],
   "source": [
    "enc = OneHotEncoder()\n",
    "enc.fit([[0], [1], [2]]) \n",
    "def names(number):\n",
    "    if(number == 0):\n",
    "        return 'Capacitor'\n",
    "    elif(number == 1):\n",
    "        return 'Diode'\n",
    "    if(number == 3):\n",
    "        return 'Resistor'"
   ]
  },
  {
   "cell_type": "code",
   "execution_count": 3,
   "metadata": {},
   "outputs": [],
   "source": [
    "data = []\n",
    "paths = []\n",
    "for r, d, f in os.walk(r\"C:\\Users\\Vee\\Desktop\\Data\\Capacitor\"):\n",
    "    for file in f:\n",
    "        if '.png' in file:\n",
    "            paths.append(os.path.join(r, file))\n",
    "for r, d, f in os.walk(r\"C:\\Users\\Vee\\Desktop\\Data\\Diode\"):\n",
    "    for file in f:\n",
    "        if '.png' in file:\n",
    "            paths.append(os.path.join(r, file))\n",
    "for r, d, f in os.walk(r\"C:\\Users\\Vee\\Desktop\\Data\\Resistor\"):\n",
    "    for file in f:\n",
    "        if '.png' in file:\n",
    "            paths.append(os.path.join(r, file))\n",
    "\n",
    "for path in paths:\n",
    "    img = Image.open(path)\n",
    "    x = img.resize((32,32))\n",
    "    data.append(np.array(x))"
   ]
  },
  {
   "cell_type": "code",
   "execution_count": 4,
   "metadata": {},
   "outputs": [
    {
     "data": {
      "text/plain": [
       "(700, 32, 32, 4)"
      ]
     },
     "execution_count": 4,
     "metadata": {},
     "output_type": "execute_result"
    }
   ],
   "source": [
    "data = np.array(data)\n",
    "data.shape"
   ]
  },
  {
   "cell_type": "code",
   "execution_count": 5,
   "metadata": {},
   "outputs": [],
   "source": [
    "ans = []\n",
    "for i in range(700):\n",
    "    if(i < 228):\n",
    "        ans.append(enc.transform([[0]]).toarray().reshape(3))\n",
    "    elif(i < 456):\n",
    "        ans.append(enc.transform([[1]]).toarray().reshape(3))\n",
    "    else:\n",
    "        ans.append(enc.transform([[2]]).toarray().reshape(3))"
   ]
  },
  {
   "cell_type": "code",
   "execution_count": 6,
   "metadata": {},
   "outputs": [
    {
     "data": {
      "text/plain": [
       "(700, 3)"
      ]
     },
     "execution_count": 6,
     "metadata": {},
     "output_type": "execute_result"
    }
   ],
   "source": [
    "ans = np.array(ans)\n",
    "ans.shape"
   ]
  },
  {
   "cell_type": "code",
   "execution_count": 7,
   "metadata": {},
   "outputs": [],
   "source": [
    "#splitting data into train and test sets. 3/4 train, 1/4 test.\n",
    "x_train,x_test,y_train,y_test = train_test_split(data, ans, test_size=0.2, shuffle=False, random_state=42)"
   ]
  },
  {
   "cell_type": "code",
   "execution_count": 14,
   "metadata": {},
   "outputs": [
    {
     "name": "stdout",
     "output_type": "stream",
     "text": [
      "Model: \"sequential_2\"\n",
      "_________________________________________________________________\n",
      "Layer (type)                 Output Shape              Param #   \n",
      "=================================================================\n",
      "conv2d_4 (Conv2D)            (None, 31, 31, 128)       2176      \n",
      "_________________________________________________________________\n",
      "conv2d_5 (Conv2D)            (None, 30, 30, 128)       65664     \n",
      "_________________________________________________________________\n",
      "conv2d_6 (Conv2D)            (None, 29, 29, 128)       65664     \n",
      "_________________________________________________________________\n",
      "max_pooling2d_2 (MaxPooling2 (None, 7, 7, 128)         0         \n",
      "_________________________________________________________________\n",
      "dropout_4 (Dropout)          (None, 7, 7, 128)         0         \n",
      "_________________________________________________________________\n",
      "flatten_2 (Flatten)          (None, 6272)              0         \n",
      "_________________________________________________________________\n",
      "dense_6 (Dense)              (None, 128)               802944    \n",
      "_________________________________________________________________\n",
      "dense_7 (Dense)              (None, 128)               16512     \n",
      "_________________________________________________________________\n",
      "dropout_5 (Dropout)          (None, 128)               0         \n",
      "_________________________________________________________________\n",
      "dense_8 (Dense)              (None, 128)               16512     \n",
      "_________________________________________________________________\n",
      "dense_9 (Dense)              (None, 128)               16512     \n",
      "_________________________________________________________________\n",
      "dropout_6 (Dropout)          (None, 128)               0         \n",
      "_________________________________________________________________\n",
      "dense_10 (Dense)             (None, 3)                 387       \n",
      "=================================================================\n",
      "Total params: 986,371\n",
      "Trainable params: 986,371\n",
      "Non-trainable params: 0\n",
      "_________________________________________________________________\n",
      "None\n"
     ]
    }
   ],
   "source": [
    "model = Sequential()\n",
    "model.add(Conv2D(128, kernel_size=(2, 2), input_shape=(32, 32, 4)))\n",
    "model.add(Conv2D(128, (2, 2), activation='sigmoid'))\n",
    "model.add(Conv2D(128, (2, 2), activation='sigmoid'))\n",
    "model.add(MaxPooling2D(pool_size=(4, 4)))\n",
    "model.add(Dropout(0.25))\n",
    "model.add(Flatten())\n",
    "model.add(Dense(128, activation='sigmoid'))\n",
    "model.add(Dense(128, activation='sigmoid'))\n",
    "model.add(Dropout(0.25))\n",
    "model.add(Dense(128, activation='sigmoid'))\n",
    "model.add(Dense(128, activation='sigmoid'))\n",
    "model.add(Dropout(0.25))\n",
    "model.add(Dense(3, activation='softmax'))\n",
    "model.compile(loss='mean_squared_error', optimizer='Adamax')\n",
    "print(model.summary())"
   ]
  },
  {
   "cell_type": "code",
   "execution_count": 15,
   "metadata": {},
   "outputs": [
    {
     "name": "stdout",
     "output_type": "stream",
     "text": [
      "Train on 560 samples, validate on 140 samples\n",
      "Epoch 1/20\n",
      "560/560 [==============================] - 0s 750us/step - loss: 0.2275 - val_loss: 0.4005\n",
      "Epoch 2/20\n",
      "560/560 [==============================] - 0s 258us/step - loss: 0.2180 - val_loss: 0.3618\n",
      "Epoch 3/20\n",
      "560/560 [==============================] - 0s 232us/step - loss: 0.2176 - val_loss: 0.3370\n",
      "Epoch 4/20\n",
      "560/560 [==============================] - 0s 274us/step - loss: 0.2165 - val_loss: 0.3293\n",
      "Epoch 5/20\n",
      "560/560 [==============================] - 0s 239us/step - loss: 0.2230 - val_loss: 0.3282\n",
      "Epoch 6/20\n",
      "560/560 [==============================] - 0s 240us/step - loss: 0.2176 - val_loss: 0.3319\n",
      "Epoch 7/20\n",
      "560/560 [==============================] - 0s 274us/step - loss: 0.2241 - val_loss: 0.3376\n",
      "Epoch 8/20\n",
      "560/560 [==============================] - 0s 278us/step - loss: 0.2184 - val_loss: 0.3400\n",
      "Epoch 9/20\n",
      "560/560 [==============================] - 0s 267us/step - loss: 0.2196 - val_loss: 0.3423\n",
      "Epoch 10/20\n",
      "560/560 [==============================] - 0s 228us/step - loss: 0.2173 - val_loss: 0.3441\n",
      "Epoch 11/20\n",
      "560/560 [==============================] - 0s 221us/step - loss: 0.2163 - val_loss: 0.3369\n",
      "Epoch 12/20\n",
      "560/560 [==============================] - 0s 236us/step - loss: 0.2160 - val_loss: 0.3519\n",
      "Epoch 13/20\n",
      "560/560 [==============================] - 0s 272us/step - loss: 0.2153 - val_loss: 0.3451\n",
      "Epoch 14/20\n",
      "560/560 [==============================] - 0s 263us/step - loss: 0.2193 - val_loss: 0.3328\n",
      "Epoch 15/20\n",
      "560/560 [==============================] - 0s 278us/step - loss: 0.2174 - val_loss: 0.3287\n",
      "Epoch 16/20\n",
      "560/560 [==============================] - 0s 280us/step - loss: 0.2179 - val_loss: 0.3266\n",
      "Epoch 17/20\n",
      "560/560 [==============================] - 0s 237us/step - loss: 0.2168 - val_loss: 0.3283\n",
      "Epoch 18/20\n",
      "560/560 [==============================] - 0s 237us/step - loss: 0.2170 - val_loss: 0.3437\n",
      "Epoch 19/20\n",
      "560/560 [==============================] - 0s 217us/step - loss: 0.2130 - val_loss: 0.3444\n",
      "Epoch 20/20\n",
      "560/560 [==============================] - 0s 272us/step - loss: 0.2168 - val_loss: 0.3384\n"
     ]
    }
   ],
   "source": [
    "history = model.fit(x_train, y_train, epochs=20, batch_size=100, verbose=1,validation_data=(x_test, y_test))"
   ]
  },
  {
   "cell_type": "code",
   "execution_count": 16,
   "metadata": {},
   "outputs": [
    {
     "data": {
      "image/png": "[encoded data removed]",
      "text/plain": [
       "<Figure size 432x288 with 1 Axes>"
      ]
     },
     "metadata": {
      "needs_background": "light"
     },
     "output_type": "display_data"
    }
   ],
   "source": [
    "# Plot training & validation loss values\n",
    "plt.plot(history.history['loss'])\n",
    "plt.plot(history.history['val_loss'])\n",
    "plt.title('Model loss')\n",
    "plt.ylabel('Loss')\n",
    "plt.xlabel('Epoch')\n",
    "plt.legend(['Validation', 'Test'], loc='upper right')\n",
    "plt.show()"
   ]
  },
  {
   "cell_type": "code",
   "execution_count": 22,
   "metadata": {},
   "outputs": [],
   "source": [
    "img = Image.open(r'C:\\Users\\Vee\\Desktop\\Data\\Diode\\15389.png')\n",
    "x = np.array(img.resize((32,32)))\n",
    "x = x.reshape(1,32,32,4)\n",
    "answ = model.predict_on_batch(x)\n",
    "classification = np.where(answ == np.amax(answ))[1][0]"
   ]
  },
  {
   "cell_type": "code",
   "execution_count": 23,
   "metadata": {},
   "outputs": [
    {
     "name": "stdout",
     "output_type": "stream",
     "text": [
      "Diode\n"
     ]
    },
    {
     "data": {
      "image/png": "[encoded data removed]",
      "text/plain": [
       "<Figure size 432x288 with 1 Axes>"
      ]
     },
     "metadata": {
      "needs_background": "light"
     },
     "output_type": "display_data"
    }
   ],
   "source": [
    "imshow(img)\n",
    "print(names(classification))"
   ]
  }
 ],
 "metadata": {
  "kernelspec": {
   "display_name": "Python 3",
   "language": "python",
   "name": "python3"
  },
  "language_info": {
   "codemirror_mode": {
    "name": "ipython",
    "version": 3
   },
   "file_extension": ".py",
   "mimetype": "text/x-python",
   "name": "python",
   "nbconvert_exporter": "python",
   "pygments_lexer": "ipython3",
   "version": "3.7.3"
  }
 },
 "nbformat": 4,
 "nbformat_minor": 2
}
